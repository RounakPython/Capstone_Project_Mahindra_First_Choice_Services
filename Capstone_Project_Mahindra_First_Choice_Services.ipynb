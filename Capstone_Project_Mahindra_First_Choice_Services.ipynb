{
 "cells": [
  {
   "cell_type": "markdown",
   "metadata": {},
   "source": [
    "<font color=\"grey\" size=\"6\" style=\"font-family:sans-serif\" bold=True>Capstone Project : Mahindra First Choice Services</font>"
   ]
  },
  {
   "cell_type": "markdown",
   "metadata": {},
   "source": [
    "# Introduction"
   ]
  },
  {
   "cell_type": "markdown",
   "metadata": {},
   "source": [
    "## Business Overview"
   ]
  },
  {
   "cell_type": "markdown",
   "metadata": {},
   "source": [
    "- <p>Mahindra First Choice Services (MFC Services) is a part of the USD 20.7 billion Mahindra group and is India's largest chain of multi-brand car and two-wheeler service workshops with a network of 500 franchise partners present in over 350 towns across 26 states.</p>\n",
    "- <p>Each four-wheeler service workshop is spread over an area of 7000 sq. ft- 15000 sq. ft and two-wheeler workshop area ranges from 600 sq. ft- 1200 sqft. MFC Services poised to deliver world-class automobile maintenance and service solutions.</p>\n",
    "- <p>At MFC Services, customers can save up to 20 percent servicing costs as compared to authorized service centers. With the motto to provide right inspection, right parts and right billing, Car and Bike owners can now 'Make the Right Choice' by choosing MFC Services to solve their woes.</p>"
   ]
  },
  {
   "cell_type": "markdown",
   "metadata": {},
   "source": [
    "## Problem Statement"
   ]
  },
  {
   "cell_type": "markdown",
   "metadata": {},
   "source": [
    "- <b>Building a machine learning model for Multi-Output Regression to predict the total cost of the service and time required to complete that service.</b>"
   ]
  },
  {
   "cell_type": "markdown",
   "metadata": {},
   "source": [
    "## Stakeholder"
   ]
  },
  {
   "cell_type": "markdown",
   "metadata": {},
   "source": [
    "- <b>Chief Financial Officer (CFO)</b>\n",
    "- Head of Customer Care Department\n",
    "- Manager of Plants"
   ]
  },
  {
   "cell_type": "markdown",
   "metadata": {},
   "source": [
    "## Data Science Metric"
   ]
  },
  {
   "cell_type": "markdown",
   "metadata": {},
   "source": [
    "- <b>Mean Absolute Error (MAE)</b>\n",
    "- <b>Root Mean Square Error (RMSE)</b>\n",
    "- <b>R-Sqaured Score(R2)</b>"
   ]
  },
  {
   "cell_type": "markdown",
   "metadata": {},
   "source": [
    "# Load Data"
   ]
  },
  {
   "cell_type": "markdown",
   "metadata": {},
   "source": [
    "## Load Libraries"
   ]
  },
  {
   "cell_type": "code",
   "execution_count": 1,
   "metadata": {},
   "outputs": [
    {
     "name": "stdout",
     "output_type": "stream",
     "text": [
      "Setup Completed.\n"
     ]
    }
   ],
   "source": [
    "# Load Libraries\n",
    "\n",
    "import pandas as pd #dataframe\n",
    "import numpy as np #mathematical computations\n",
    "import matplotlib.pyplot as plt #visualization\n",
    "import seaborn as sns #visualization\n",
    "import warnings\n",
    "warnings.filterwarnings('ignore')\n",
    "%matplotlib inline\n",
    "\n",
    "import json #exporting columns\n",
    "import pickle #saving the model\n",
    "from numpy import absolute\n",
    "from numpy import mean\n",
    "from numpy import std\n",
    "from sklearn.model_selection import RepeatedKFold\n",
    "from sklearn.multioutput import MultiOutputRegressor\n",
    "from sklearn.multioutput import RegressorChain\n",
    "from sklearn.svm import LinearSVR\n",
    "from sklearn.linear_model import LinearRegression #Linear Regression\n",
    "from sklearn.preprocessing import LabelEncoder #Encoding technique\n",
    "from sklearn.linear_model import LogisticRegression #Logistic Regression\n",
    "from sklearn.linear_model import Lasso #Lasso Regression\n",
    "from sklearn.linear_model import Ridge #Ridge Regression\n",
    "from sklearn.tree import DecisionTreeRegressor #Decision Tree Regression\n",
    "from sklearn.ensemble import RandomForestRegressor #Random Forest Regression\n",
    "from sklearn.ensemble import ExtraTreesRegressor\n",
    "from xgboost import XGBRegressor\n",
    "from sklearn.neighbors import KNeighborsRegressor\n",
    "from sklearn.model_selection import train_test_split #Splitting the dataset into training and testing\n",
    "from sklearn.model_selection import cross_val_score #Score cross validation\n",
    "from sklearn.model_selection import GridSearchCV, RandomizedSearchCV #Hyper parameter tuning\n",
    "from sklearn.feature_selection import RFE,SelectKBest\n",
    "from sklearn.feature_selection import f_classif, chi2\n",
    "from sklearn.metrics import mean_squared_error\n",
    "from sklearn.metrics import r2_score\n",
    "from sklearn.metrics import mean_absolute_error\n",
    "import pickle\n",
    "from warnings import simplefilter #Filtering warnings\n",
    "\n",
    "print('Setup Completed.')"
   ]
  },
  {
   "cell_type": "markdown",
   "metadata": {},
   "source": [
    "## Load Dataset"
   ]
  },
  {
   "cell_type": "code",
   "execution_count": 2,
   "metadata": {},
   "outputs": [
    {
     "name": "stdout",
     "output_type": "stream",
     "text": [
      "Shape of the data: (2993983, 17)\n"
     ]
    }
   ],
   "source": [
    "# Load train data\n",
    "\n",
    "serv_df = pd.read_csv('./Data/master_data.csv')\n",
    "\n",
    "print('Shape of the data:', serv_df.shape)"
   ]
  },
  {
   "cell_type": "code",
   "execution_count": 3,
   "metadata": {},
   "outputs": [
    {
     "data": {
      "text/html": [
       "<div>\n",
       "<style scoped>\n",
       "    .dataframe tbody tr th:only-of-type {\n",
       "        vertical-align: middle;\n",
       "    }\n",
       "\n",
       "    .dataframe tbody tr th {\n",
       "        vertical-align: top;\n",
       "    }\n",
       "\n",
       "    .dataframe thead th {\n",
       "        text-align: right;\n",
       "    }\n",
       "</style>\n",
       "<table border=\"1\" class=\"dataframe\">\n",
       "  <thead>\n",
       "    <tr style=\"text-align: right;\">\n",
       "      <th></th>\n",
       "      <th>0</th>\n",
       "      <th>1</th>\n",
       "      <th>2</th>\n",
       "      <th>3</th>\n",
       "      <th>4</th>\n",
       "    </tr>\n",
       "  </thead>\n",
       "  <tbody>\n",
       "    <tr>\n",
       "      <th>KMs Reading</th>\n",
       "      <td>49317</td>\n",
       "      <td>49317</td>\n",
       "      <td>49317</td>\n",
       "      <td>49317</td>\n",
       "      <td>49317</td>\n",
       "    </tr>\n",
       "    <tr>\n",
       "      <th>Labour Total</th>\n",
       "      <td>1203.14</td>\n",
       "      <td>1203.14</td>\n",
       "      <td>1203.14</td>\n",
       "      <td>1203.14</td>\n",
       "      <td>1203.14</td>\n",
       "    </tr>\n",
       "    <tr>\n",
       "      <th>Order Type</th>\n",
       "      <td>Paid Service</td>\n",
       "      <td>Paid Service</td>\n",
       "      <td>Paid Service</td>\n",
       "      <td>Paid Service</td>\n",
       "      <td>Paid Service</td>\n",
       "    </tr>\n",
       "    <tr>\n",
       "      <th>Parts Total</th>\n",
       "      <td>2348.75</td>\n",
       "      <td>2348.75</td>\n",
       "      <td>2348.75</td>\n",
       "      <td>2348.75</td>\n",
       "      <td>2348.75</td>\n",
       "    </tr>\n",
       "    <tr>\n",
       "      <th>Total Value</th>\n",
       "      <td>4051.95</td>\n",
       "      <td>4051.95</td>\n",
       "      <td>4051.95</td>\n",
       "      <td>4051.95</td>\n",
       "      <td>4051.95</td>\n",
       "    </tr>\n",
       "    <tr>\n",
       "      <th>City</th>\n",
       "      <td>Thane</td>\n",
       "      <td>Thane</td>\n",
       "      <td>Thane</td>\n",
       "      <td>Thane</td>\n",
       "      <td>Thane</td>\n",
       "    </tr>\n",
       "    <tr>\n",
       "      <th>State</th>\n",
       "      <td>Maharashtra</td>\n",
       "      <td>Maharashtra</td>\n",
       "      <td>Maharashtra</td>\n",
       "      <td>Maharashtra</td>\n",
       "      <td>Maharashtra</td>\n",
       "    </tr>\n",
       "    <tr>\n",
       "      <th>Sales organization</th>\n",
       "      <td>MFCD</td>\n",
       "      <td>MFCD</td>\n",
       "      <td>MFCD</td>\n",
       "      <td>MFCD</td>\n",
       "      <td>MFCD</td>\n",
       "    </tr>\n",
       "    <tr>\n",
       "      <th>Car Model</th>\n",
       "      <td>GENERAL MOTORS SPARK</td>\n",
       "      <td>GENERAL MOTORS SPARK</td>\n",
       "      <td>GENERAL MOTORS SPARK</td>\n",
       "      <td>GENERAL MOTORS SPARK</td>\n",
       "      <td>GENERAL MOTORS SPARK</td>\n",
       "    </tr>\n",
       "    <tr>\n",
       "      <th>Order Item</th>\n",
       "      <td>10</td>\n",
       "      <td>20</td>\n",
       "      <td>30</td>\n",
       "      <td>40</td>\n",
       "      <td>50</td>\n",
       "    </tr>\n",
       "    <tr>\n",
       "      <th>Item Category</th>\n",
       "      <td>P002</td>\n",
       "      <td>P002</td>\n",
       "      <td>P002</td>\n",
       "      <td>P002</td>\n",
       "      <td>P001</td>\n",
       "    </tr>\n",
       "    <tr>\n",
       "      <th>Order Quantity</th>\n",
       "      <td>1</td>\n",
       "      <td>1</td>\n",
       "      <td>3.5</td>\n",
       "      <td>1</td>\n",
       "      <td>1</td>\n",
       "    </tr>\n",
       "    <tr>\n",
       "      <th>Target quantity UoM</th>\n",
       "      <td>EA</td>\n",
       "      <td>EA</td>\n",
       "      <td>L</td>\n",
       "      <td>EA</td>\n",
       "      <td>MIN</td>\n",
       "    </tr>\n",
       "    <tr>\n",
       "      <th>Net value</th>\n",
       "      <td>641.86</td>\n",
       "      <td>641.86</td>\n",
       "      <td>970.79</td>\n",
       "      <td>94.24</td>\n",
       "      <td>699.08</td>\n",
       "    </tr>\n",
       "    <tr>\n",
       "      <th>Cust Count</th>\n",
       "      <td>8179</td>\n",
       "      <td>8179</td>\n",
       "      <td>8179</td>\n",
       "      <td>8179</td>\n",
       "      <td>8179</td>\n",
       "    </tr>\n",
       "    <tr>\n",
       "      <th>Plant Count</th>\n",
       "      <td>42</td>\n",
       "      <td>42</td>\n",
       "      <td>42</td>\n",
       "      <td>42</td>\n",
       "      <td>42</td>\n",
       "    </tr>\n",
       "    <tr>\n",
       "      <th>Service Hours</th>\n",
       "      <td>477</td>\n",
       "      <td>477</td>\n",
       "      <td>477</td>\n",
       "      <td>477</td>\n",
       "      <td>477</td>\n",
       "    </tr>\n",
       "  </tbody>\n",
       "</table>\n",
       "</div>"
      ],
      "text/plain": [
       "                                        0                     1  \\\n",
       "KMs Reading                         49317                 49317   \n",
       "Labour Total                      1203.14               1203.14   \n",
       "Order Type                   Paid Service          Paid Service   \n",
       "Parts Total                       2348.75               2348.75   \n",
       "Total Value                       4051.95               4051.95   \n",
       "City                                Thane                 Thane   \n",
       "State                         Maharashtra           Maharashtra   \n",
       "Sales organization                   MFCD                  MFCD   \n",
       "Car Model            GENERAL MOTORS SPARK  GENERAL MOTORS SPARK   \n",
       "Order Item                             10                    20   \n",
       "Item Category                        P002                  P002   \n",
       "Order Quantity                          1                     1   \n",
       "Target quantity UoM                    EA                    EA   \n",
       "Net value                          641.86                641.86   \n",
       "Cust Count                           8179                  8179   \n",
       "Plant Count                            42                    42   \n",
       "Service Hours                         477                   477   \n",
       "\n",
       "                                        2                     3  \\\n",
       "KMs Reading                         49317                 49317   \n",
       "Labour Total                      1203.14               1203.14   \n",
       "Order Type                   Paid Service          Paid Service   \n",
       "Parts Total                       2348.75               2348.75   \n",
       "Total Value                       4051.95               4051.95   \n",
       "City                                Thane                 Thane   \n",
       "State                         Maharashtra           Maharashtra   \n",
       "Sales organization                   MFCD                  MFCD   \n",
       "Car Model            GENERAL MOTORS SPARK  GENERAL MOTORS SPARK   \n",
       "Order Item                             30                    40   \n",
       "Item Category                        P002                  P002   \n",
       "Order Quantity                        3.5                     1   \n",
       "Target quantity UoM                     L                    EA   \n",
       "Net value                          970.79                 94.24   \n",
       "Cust Count                           8179                  8179   \n",
       "Plant Count                            42                    42   \n",
       "Service Hours                         477                   477   \n",
       "\n",
       "                                        4  \n",
       "KMs Reading                         49317  \n",
       "Labour Total                      1203.14  \n",
       "Order Type                   Paid Service  \n",
       "Parts Total                       2348.75  \n",
       "Total Value                       4051.95  \n",
       "City                                Thane  \n",
       "State                         Maharashtra  \n",
       "Sales organization                   MFCD  \n",
       "Car Model            GENERAL MOTORS SPARK  \n",
       "Order Item                             50  \n",
       "Item Category                        P001  \n",
       "Order Quantity                          1  \n",
       "Target quantity UoM                   MIN  \n",
       "Net value                          699.08  \n",
       "Cust Count                           8179  \n",
       "Plant Count                            42  \n",
       "Service Hours                         477  "
      ]
     },
     "execution_count": 3,
     "metadata": {},
     "output_type": "execute_result"
    }
   ],
   "source": [
    "serv_df.head().T"
   ]
  },
  {
   "cell_type": "markdown",
   "metadata": {},
   "source": [
    "# Data Analysis"
   ]
  },
  {
   "cell_type": "markdown",
   "metadata": {},
   "source": [
    "## Statistics of Data"
   ]
  },
  {
   "cell_type": "code",
   "execution_count": 4,
   "metadata": {},
   "outputs": [
    {
     "data": {
      "text/html": [
       "<div>\n",
       "<style scoped>\n",
       "    .dataframe tbody tr th:only-of-type {\n",
       "        vertical-align: middle;\n",
       "    }\n",
       "\n",
       "    .dataframe tbody tr th {\n",
       "        vertical-align: top;\n",
       "    }\n",
       "\n",
       "    .dataframe thead th {\n",
       "        text-align: right;\n",
       "    }\n",
       "</style>\n",
       "<table border=\"1\" class=\"dataframe\">\n",
       "  <thead>\n",
       "    <tr style=\"text-align: right;\">\n",
       "      <th></th>\n",
       "      <th>count</th>\n",
       "      <th>mean</th>\n",
       "      <th>std</th>\n",
       "      <th>min</th>\n",
       "      <th>25%</th>\n",
       "      <th>50%</th>\n",
       "      <th>75%</th>\n",
       "      <th>max</th>\n",
       "    </tr>\n",
       "  </thead>\n",
       "  <tbody>\n",
       "    <tr>\n",
       "      <th>KMs Reading</th>\n",
       "      <td>2993983.0</td>\n",
       "      <td>82495.265545</td>\n",
       "      <td>117711.520581</td>\n",
       "      <td>1.000</td>\n",
       "      <td>39657.00</td>\n",
       "      <td>65210.00</td>\n",
       "      <td>98933.00</td>\n",
       "      <td>9999999.00</td>\n",
       "    </tr>\n",
       "    <tr>\n",
       "      <th>Labour Total</th>\n",
       "      <td>2993983.0</td>\n",
       "      <td>3354.764342</td>\n",
       "      <td>7583.859376</td>\n",
       "      <td>-137.000</td>\n",
       "      <td>599.96</td>\n",
       "      <td>1416.96</td>\n",
       "      <td>3301.20</td>\n",
       "      <td>323000.00</td>\n",
       "    </tr>\n",
       "    <tr>\n",
       "      <th>Parts Total</th>\n",
       "      <td>2993983.0</td>\n",
       "      <td>9171.690002</td>\n",
       "      <td>22693.626194</td>\n",
       "      <td>-0.010</td>\n",
       "      <td>1094.16</td>\n",
       "      <td>3061.60</td>\n",
       "      <td>7891.57</td>\n",
       "      <td>598003.48</td>\n",
       "    </tr>\n",
       "    <tr>\n",
       "      <th>Total Value</th>\n",
       "      <td>2993983.0</td>\n",
       "      <td>14237.549769</td>\n",
       "      <td>29832.221440</td>\n",
       "      <td>-137.000</td>\n",
       "      <td>2396.80</td>\n",
       "      <td>5526.99</td>\n",
       "      <td>13151.52</td>\n",
       "      <td>648203.49</td>\n",
       "    </tr>\n",
       "    <tr>\n",
       "      <th>Order Item</th>\n",
       "      <td>2993983.0</td>\n",
       "      <td>100.642756</td>\n",
       "      <td>136.409251</td>\n",
       "      <td>10.000</td>\n",
       "      <td>30.00</td>\n",
       "      <td>60.00</td>\n",
       "      <td>120.00</td>\n",
       "      <td>4830.00</td>\n",
       "    </tr>\n",
       "    <tr>\n",
       "      <th>Order Quantity</th>\n",
       "      <td>2993983.0</td>\n",
       "      <td>43.387604</td>\n",
       "      <td>326.275124</td>\n",
       "      <td>0.001</td>\n",
       "      <td>1.00</td>\n",
       "      <td>1.00</td>\n",
       "      <td>4.00</td>\n",
       "      <td>38000.00</td>\n",
       "    </tr>\n",
       "    <tr>\n",
       "      <th>Net value</th>\n",
       "      <td>2993983.0</td>\n",
       "      <td>730.504090</td>\n",
       "      <td>1953.305767</td>\n",
       "      <td>-555.010</td>\n",
       "      <td>94.33</td>\n",
       "      <td>283.52</td>\n",
       "      <td>707.36</td>\n",
       "      <td>510644.30</td>\n",
       "    </tr>\n",
       "    <tr>\n",
       "      <th>Cust Count</th>\n",
       "      <td>2993983.0</td>\n",
       "      <td>7515.113345</td>\n",
       "      <td>5908.538316</td>\n",
       "      <td>1.000</td>\n",
       "      <td>2001.00</td>\n",
       "      <td>7228.00</td>\n",
       "      <td>11511.00</td>\n",
       "      <td>18547.00</td>\n",
       "    </tr>\n",
       "    <tr>\n",
       "      <th>Plant Count</th>\n",
       "      <td>2993983.0</td>\n",
       "      <td>27.217948</td>\n",
       "      <td>15.138551</td>\n",
       "      <td>1.000</td>\n",
       "      <td>11.00</td>\n",
       "      <td>40.00</td>\n",
       "      <td>42.00</td>\n",
       "      <td>42.00</td>\n",
       "    </tr>\n",
       "    <tr>\n",
       "      <th>Service Hours</th>\n",
       "      <td>2993983.0</td>\n",
       "      <td>161.460298</td>\n",
       "      <td>429.906439</td>\n",
       "      <td>0.000</td>\n",
       "      <td>6.00</td>\n",
       "      <td>44.00</td>\n",
       "      <td>136.00</td>\n",
       "      <td>17453.00</td>\n",
       "    </tr>\n",
       "  </tbody>\n",
       "</table>\n",
       "</div>"
      ],
      "text/plain": [
       "                    count          mean            std      min       25%  \\\n",
       "KMs Reading     2993983.0  82495.265545  117711.520581    1.000  39657.00   \n",
       "Labour Total    2993983.0   3354.764342    7583.859376 -137.000    599.96   \n",
       "Parts Total     2993983.0   9171.690002   22693.626194   -0.010   1094.16   \n",
       "Total Value     2993983.0  14237.549769   29832.221440 -137.000   2396.80   \n",
       "Order Item      2993983.0    100.642756     136.409251   10.000     30.00   \n",
       "Order Quantity  2993983.0     43.387604     326.275124    0.001      1.00   \n",
       "Net value       2993983.0    730.504090    1953.305767 -555.010     94.33   \n",
       "Cust Count      2993983.0   7515.113345    5908.538316    1.000   2001.00   \n",
       "Plant Count     2993983.0     27.217948      15.138551    1.000     11.00   \n",
       "Service Hours   2993983.0    161.460298     429.906439    0.000      6.00   \n",
       "\n",
       "                     50%       75%         max  \n",
       "KMs Reading     65210.00  98933.00  9999999.00  \n",
       "Labour Total     1416.96   3301.20   323000.00  \n",
       "Parts Total      3061.60   7891.57   598003.48  \n",
       "Total Value      5526.99  13151.52   648203.49  \n",
       "Order Item         60.00    120.00     4830.00  \n",
       "Order Quantity      1.00      4.00    38000.00  \n",
       "Net value         283.52    707.36   510644.30  \n",
       "Cust Count       7228.00  11511.00    18547.00  \n",
       "Plant Count        40.00     42.00       42.00  \n",
       "Service Hours      44.00    136.00    17453.00  "
      ]
     },
     "execution_count": 4,
     "metadata": {},
     "output_type": "execute_result"
    }
   ],
   "source": [
    "serv_df.describe().T"
   ]
  },
  {
   "cell_type": "markdown",
   "metadata": {},
   "source": [
    "## Categorical Vs Numerical features"
   ]
  },
  {
   "cell_type": "code",
   "execution_count": 3,
   "metadata": {},
   "outputs": [],
   "source": [
    "# Cat Vs Num column\n",
    "\n",
    "cat_col = serv_df.select_dtypes(exclude=np.number).columns\n",
    "num_col = serv_df.select_dtypes(include=np.number).columns"
   ]
  },
  {
   "cell_type": "code",
   "execution_count": 4,
   "metadata": {},
   "outputs": [
    {
     "name": "stdout",
     "output_type": "stream",
     "text": [
      "Total Categorical Coulmns :  7 \n",
      "\n",
      "Categorical columns : ['Order Type', 'City', 'State', 'Sales organization', 'Car Model', 'Item Category', 'Target quantity UoM'] \n",
      "\n",
      "Total Numerical Coulmns :  10 \n",
      "\n",
      "Numerical columns : ['KMs Reading', 'Labour Total', 'Parts Total', 'Total Value', 'Order Item', 'Order Quantity', 'Net value', 'Cust Count', 'Plant Count', 'Service Hours'] \n",
      "\n"
     ]
    }
   ],
   "source": [
    "# Display categorical and numerical columns\n",
    "\n",
    "print('Total Categorical Coulmns : ', len(cat_col), \"\\n\")\n",
    "print(\"Categorical columns :\", list(cat_col), \"\\n\")\n",
    "print('Total Numerical Coulmns : ', len(num_col), \"\\n\")\n",
    "print(\"Numerical columns :\", list(num_col), \"\\n\")"
   ]
  },
  {
   "cell_type": "markdown",
   "metadata": {},
   "source": [
    "## Unique values in categorical columns"
   ]
  },
  {
   "cell_type": "code",
   "execution_count": 7,
   "metadata": {},
   "outputs": [
    {
     "name": "stdout",
     "output_type": "stream",
     "text": [
      "Number of unique values for column Order Type 8\n",
      "Unique values of column Order Type ['Paid Service' 'SMC Value Package' 'Running Repairs' 'Accidental'\n",
      " 'SMC Redemption' 'Repeat Order' 'Mechanical' 'WBW Order'] \n",
      "\n",
      "Number of unique values for column City 190\n",
      "Unique values of column City ['Thane' 'Pune' 'Nashik' 'Hyderabad' 'Chennai' 'Vapi' 'Surat' 'Bengaluru'\n",
      " 'Nellore' 'Coimbatore' 'Ghaziabad' 'Kochi' 'Greater Noida' 'Faridabad'\n",
      " 'Navi Mumbai' 'Nagpur' 'Ludhiana' 'Mohali' 'Panchkula' 'Puducherry'\n",
      " 'Ranipet' 'Villupuram' 'Chidambaram' 'Neyveli' 'Ambur' 'Kolhapur' 'Salem'\n",
      " 'Thanjavur' 'Tiruchirappalli' 'Moga' 'Zirakpur' 'Aurangabad' 'Madurai'\n",
      " 'Kurnool' 'Boripardhi' 'Shirur' 'Ahmednagar' 'Meerut' 'Tuticorin'\n",
      " 'Chhindwara' 'Tirupur' 'Pollachi' 'Dharmapuri' 'Rohtak' 'Ongole'\n",
      " 'Rishikesh' 'Abohar' 'Raipur' 'Shimoga' 'Chengalpattu' 'Una'\n",
      " 'Rajahmundry' 'Sonepat' 'Thirupathi' 'Shrigonda' 'Kottayam' 'Nagercoil'\n",
      " 'Hassan' 'Khammam' 'Hisar' 'Agra' 'Tirunelveli' 'Mysore' 'Anantapur'\n",
      " 'Indore' 'Vijayawada' 'Mangalore' 'Chomu' 'Dindigul' 'Palani' 'Kolar'\n",
      " 'Indapur' 'Bhopal' 'Varanasi' 'Neemuch' 'Thiruvarur' 'Mumbai' 'Jhajjar'\n",
      " 'Solapur' 'Jaipur' 'Bikaner' 'Dewas' 'Jodhpur' 'Rudrapur' 'Vijayapura'\n",
      " 'Amritsar' 'Gwalior' 'Hospet' 'Ratlam' 'Jhansi' 'Sikar' 'Patna'\n",
      " 'Bhagalpur' 'Udaipur' 'Thiruvallur' 'Erode' 'Kakinada' 'Begusarai'\n",
      " 'Buldhana' 'Bilaspur' 'Kullu' 'Jhunjhunu' 'Rajsamand' 'Kalaburagi'\n",
      " 'Kottakkal' 'Aligarh' 'Nagda' 'Kolkata' 'Pinjore' 'Hubballi' 'Mohania'\n",
      " 'Wai' 'Mehsana' 'Vadali Bhoi' 'Bhagpat' 'Satna' 'Wardha' 'Bhubaneswar'\n",
      " 'Firozabad' 'Kota' 'Kotputli' 'Rosera' 'Ramnagar' 'Namakkal' 'Karur'\n",
      " 'Patiala' 'Nizamabad' 'Farrukhbad' 'Shamli' 'Vadodara' 'Vyara'\n",
      " 'Chhatarpur' 'Berhampur' 'Jharsuguda' 'Kalol' 'Latur' 'Malegaon'\n",
      " 'Paradeep' 'Udgir' 'Gangapur' 'Rourkela' 'Belgaum' 'Bahr'\n",
      " 'Pune-Hinjewadi' 'Narnaul' 'Kashipur' 'Haldwani' 'Talcher' 'Avadi'\n",
      " 'Bikramganj' 'Pudukottai' 'Sangamner' 'Proddatur' 'Jalpaiguri'\n",
      " 'Chittorgarh' 'Muzaffarpur' 'Sujangarh' 'Chirawa' 'Dhanbad' 'Ballia'\n",
      " 'Amroha' 'Barmer' 'Kotayyam' 'Jajpur' 'Ramanathapuram' 'Yavatmal'\n",
      " 'Shahpura' 'Ambikapur' 'Reengus' 'Bahraich' 'Kishangarh' 'Gaya'\n",
      " 'Sambalpur' 'Mughalsarai' 'Mangaldoi' 'Chandigarh' 'Udumalpet' 'Nadiad'\n",
      " 'Akola' 'Shahjahanpur' 'Alwar' 'Suryapet' 'Buxar' 'Guntur' 'Kanpur'\n",
      " 'Tikamgarh' 'Srirampur' 'Bazpur' 'Bhinmal' 'Hatras'] \n",
      "\n",
      "Number of unique values for column State 23\n",
      "Unique values of column State ['Maharashtra' 'Telangana' 'Tamil Nadu' 'Gujrat' 'Karnataka'\n",
      " 'Andhra Pradesh' 'Uttar Pradesh' 'Kerala' 'Haryana' 'Punjab' 'Puducherry'\n",
      " 'Madhya Pradesh' 'Uttarakhand' 'Chhattisgarh' 'Himachal Pradesh'\n",
      " 'Rajasthan' 'Bihar' 'West Bengal' 'Gujarat' 'Odisha' 'Jharkhand' 'Assam'\n",
      " 'Chandigarh'] \n",
      "\n",
      "Number of unique values for column Sales organization 5\n",
      "Unique values of column Sales organization ['MFCD' 'MFCS' 'MFCA' 'MFCB' 'MFCC'] \n",
      "\n",
      "Number of unique values for column Car Model 260\n",
      "Unique values of column Car Model ['GENERAL MOTORS SPARK' 'TATA MOTORS INDICA' 'MARUTI SUZUKI ZEN'\n",
      " 'HYUNDAI SANTRO XING' 'TOYOTA INNOVA' 'HONDA CITY' 'MARUTI SUZUKI ALTO'\n",
      " 'HYUNDAI SANTRO' 'HYUNDAI I10' 'TATA MOTORS VISTA'\n",
      " 'MARUTI SUZUKI SWIFT DZIRE' 'GENERAL MOTORS AVEO' 'FIAT GRAND PUNTO'\n",
      " 'FORD FIESTA' 'MARUTI SUZUKI WAGONR' 'SKODA RAPID'\n",
      " 'MAHINDRA &  MAHINDRA XYLO' 'VOLKSWAGEN POLO'\n",
      " 'MAHINDRA &  MAHINDRA LOGAN P' 'MARUTI SUZUKI SWIFT' 'FORD FIGO'\n",
      " 'MAHINDRA &  MAHINDRA VERITO' 'MAHINDRA &  MAHINDRA SCORPIO CRDE'\n",
      " 'MAHINDRA &  MAHINDRA SCORPIO NEF' 'HYUNDAI ACCENT' 'MARUTI SUZUKI 800'\n",
      " 'TATA MOTORS SAFARI' 'MARUTI SUZUKI ZEN ESTILO'\n",
      " 'MARUTI SUZUKI ESTEEM 1300' 'HYUNDAI I20' 'HYUNDAI VERNA' 'TOYOTA ETIOS'\n",
      " 'MAHINDRA &  MAHINDRA LOGAN D' 'TATA MOTORS INDIGO' 'HYUNDAI GETZ'\n",
      " 'MARUTI SUZUKI RITZ' 'FORD IKON' 'HONDA CIVIC'\n",
      " 'MAHINDRA &  MAHINDRA XUV 500' 'TATA MOTORS SUMO' 'FIAT PALIO'\n",
      " 'GENERAL MOTORS BEAT' 'MARUTI SUZUKI SX4' 'HONDA JAZZ' 'HYUNDAI EON'\n",
      " 'TOYOTA QUALIS' 'TATA MOTORS INDIGO MANZA' 'SKODA FABIA' 'TOYOTA COROLLA'\n",
      " 'VOLKSWAGEN VENTO' 'FIAT LINEA' 'MAHINDRA &  MAHINDRA BOLERO'\n",
      " 'NISSAN SUPER SUNNY' 'GENERAL MOTORS TAVERA' 'MARUTI SUZUKI EECO'\n",
      " 'FIAT ADVENTURE' 'GENERAL MOTORS CHEVROLET CRUZE' 'SKODA OCTAVIA'\n",
      " 'GENERAL MOTORS AVEO UV-A' 'GENERAL MOTORS OPEL' 'GENERAL MOTORS OPTRA'\n",
      " 'MAHINDRA &  MAHINDRA ' 'TATA MOTORS INDIGO MARINA' 'TOYOTA FORTUNER'\n",
      " 'RENAULT DUSTER' 'NISSAN MICRA' 'SKODA LAURA' 'FORD ENDEAVOUR'\n",
      " 'FORD FUSION' 'HONDA BRIO' 'RENAULT RENAULT 1.9' 'MARUTI SUZUKI OMNI'\n",
      " 'SKODA SUPERB' 'TATA MOTORS NANO' 'GENERAL MOTORS OPEL CORSA'\n",
      " 'MARUTI SUZUKI A STAR' 'MERCEDES BENZ E-CLASS' 'MITSUBISHI MOTORS LANCER'\n",
      " 'GENERAL MOTORS SAIL' 'HONDA CR-V' 'VOLKSWAGEN JETTA'\n",
      " 'TOYOTA COROLLA ALTIS' 'GENERAL MOTORS CAPTIVA' 'TATA MOTORS MAGIC'\n",
      " 'MAHINDRA &  MAHINDRA QUANTO' 'MAHINDRA &  MAHINDRA SSANYONG KORANDO'\n",
      " 'HONDA ACCORD' 'MARUTI SUZUKI ESTEEM 1000' 'FORD ' 'DAEWOO MATIZ'\n",
      " 'MARUTI SUZUKI ERTIGA' 'HONDA AMAZE' 'GENERAL MOTORS SRV'\n",
      " 'MAHINDRA &  MAHINDRA MAXX' 'HONDA ' 'HYUNDAI ' 'TATA MOTORS ARIA'\n",
      " 'MARUTI SUZUKI VERSA' 'MAHINDRA &  MAHINDRA BOLERO PIK UP' 'FORD ESCORT'\n",
      " 'BMW BMW-M3' 'RENAULT PULSE' 'HYUNDAI SONATA' 'MARUTI SUZUKI BALENO'\n",
      " 'TATA MOTORS SUMO GRANDE' 'GENERAL MOTORS OPTRA MAGNUM' 'FORCE FORCE ONE'\n",
      " 'NISSAN X-TRAIL' 'NISSAN TEANA' 'MAHINDRA &  MAHINDRA COMMANDER'\n",
      " 'MARUTI SUZUKI GYPSY 1000' 'SKODA ROOMSTER' 'TATA MOTORS ' 'FORCE TRAX'\n",
      " 'MAHINDRA &  MAHINDRA THAR' 'GENERAL MOTORS TAVERA NEO' 'HYUNDAI XCENT'\n",
      " 'SONALIKA RHINO RX' 'MAHINDRA &  MAHINDRA ARMADA' 'TOYOTA '\n",
      " 'MARUTI SUZUKI GYPSY 1300' 'VOLVO VOLVO XC90' 'SKODA YETI'\n",
      " 'HYUNDAI ELANTRA' 'FIAT ' 'HINDUSTAN MOTORS GRAND'\n",
      " 'MAHINDRA &  MAHINDRA MAHINDRA CNG' 'MARUTI SUZUKI ' 'FIAT PALIO STILE'\n",
      " 'MERCEDES BENZ G CLASS' 'MERCEDES BENZ S 350 L'\n",
      " 'MAHINDRA &  MAHINDRA MARSHAL' 'FIAT UNO' 'BMW 5 SERIES' 'TOYOTA CAMRY'\n",
      " 'MAHINDRA &  MAHINDRA MAHINDRA PIK UP' 'TATA MOTORS WINGER'\n",
      " 'TATA MOTORS VENTURE' 'TATA MOTORS SIERRA' 'HINDUSTAN MOTORS CONTESSA'\n",
      " 'GENERAL MOTORS OPEL ASTRA' 'TATA MOTORS 207' 'VOLKSWAGEN PASSAT'\n",
      " 'NISSAN LAUREL' 'RENAULT FLUENCE' 'HYUNDAI TERRACAN'\n",
      " 'MITSUBISHI MOTORS PAJERO' 'MERCEDES BENZ C-CLASS'\n",
      " 'HINDUSTAN MOTORS AMBASSADOR' 'FORD FOCUS' 'MITSUBISHI MOTORS MONTERO'\n",
      " 'AUDI Q7' 'GENERAL MOTORS ' 'AUDI Q5' 'BMW 7 SERIES'\n",
      " 'MAHINDRA &  MAHINDRA CLASSIC' 'HYUNDAI SONATA V-6' 'BMW BMW-M5'\n",
      " 'MITSUBISHI MOTORS CEDIA' 'TATA MOTORS XENON XT' 'MARUTI SUZUKI KIZASHI'\n",
      " 'BMW BMW-M6' 'TATA MOTORS LAND ROVER DISCOVERY' 'FIAT PETRA'\n",
      " 'TATA MOTORS JAGUAR XF' 'MAHINDRA &  MAHINDRA MAHINDRA MM' 'AUDI A4'\n",
      " 'MAHINDRA &  MAHINDRA SSANYONG REXTON' 'RENAULT KOLEOS'\n",
      " 'HYUNDAI SANTA FE' 'FIAT SIENA' 'MARUTI SUZUKI GRAND VITARA'\n",
      " 'TATA MOTORS ACE' 'MERCEDES BENZ ML 350' 'MERCEDES BENZ S 320 CDI L'\n",
      " 'GENERAL MOTORS FORESTER' 'PREMIER\\xa0AUTOMOBILES RIO' 'TATA MOTORS TL'\n",
      " 'MERCEDES BENZ SLK-CLASS' 'BMW X5' 'BMW X3' 'AUDI A6'\n",
      " 'MERCEDES BENZ CL-CLASS' 'FORD MONDEO' 'BMW X1'\n",
      " 'MARUTI SUZUKI SWIFT D,ZIRE' 'TATA MOTORS JAGUAR XJ' 'TATA MOTORS ZEST'\n",
      " 'FORD ECOSPORT' 'MARUTI SUZUKI CIAZ' 'NISSAN TERRANO'\n",
      " 'MARUTI SUZUKI CELERIO' 'RENAULT SCALA' 'MERCEDES BENZ CLS-CLASS'\n",
      " 'GENERAL MOTORS ENJOY' 'PORCHE CAYENNE' 'HONDA MOBILIO'\n",
      " 'PREMIER\\xa0AUTOMOBILES PADMINI' 'DAEWOO CIELO'\n",
      " 'MITSUBISHI MOTORS OUTLANDER' 'NISSAN DATSUN GO' 'LAND ROVER ROVER'\n",
      " 'BMW 3 SERIES' 'HYUNDAI VELOSTER' 'TATA MOTORS BOLT' 'BMW MINIS'\n",
      " 'RENAULT LODGY' 'FORD LIMOUSINE' 'MERCEDES BENZ S-CLASS'\n",
      " 'MAHINDRA &  MAHINDRA REVA' 'TATA MOTORS LAND ROVER RANGE ROVER'\n",
      " 'TOYOTA TATA-NANO' 'BMW 6 SERIES' 'VOLVO VOLVO S80' 'AUDI A8' 'AUDI A7'\n",
      " 'TOYOTA LAND CRUISER PRADO' 'NISSAN ' 'JEEP CHEROKEE'\n",
      " 'VOLKSWAGEN TOUAREG' 'MERCEDES BENZ SL-CLASS' 'SKODA ' 'MORRIS AUSTIN'\n",
      " 'VOLKSWAGEN ' 'HYUNDAI TUCSON' 'TATA MOTORS JAGUAR XL'\n",
      " 'MERCEDES BENZ ML-CLASS' 'GENERAL MOTORS VECTRA' 'HONDA SAIL'\n",
      " 'MARUTI SUZUKI ESTILO' 'FIAT 500' 'PORCHE CAYMAN S' 'RENAULT ' 'AUDI TT'\n",
      " 'BMW ' 'BMW BMW X6' 'SAN MOTORS SAN STORM 1.2' 'HYUNDAI ALTO'\n",
      " 'MERCEDES BENZ CLK-CLASS' 'MARUTI SUZUKI ASTAR' 'BMW Z4'\n",
      " 'MAHINDRA &  MAHINDRA MAXXIMO' 'MAHINDRA &  MAHINDRA GENIO'\n",
      " 'HYUNDAI CRETA' 'RENAULT KWID' 'MAHINDRA &  MAHINDRA KUV100'\n",
      " 'MARUTI SUZUKI BREZZA' 'HONDA BRV' 'MAHINDRA &  MAHINDRA TUV300'\n",
      " 'TATA MOTORS TIAGO' 'NISSAN EVALIA' 'MAHINDRA &  MAHINDRA SUPRO'\n",
      " 'VOLKSWAGEN AMEO' 'HINDUSTAN MOTORS AVIGO' 'FORD ECO SPORT'\n",
      " 'HINDUSTAN MOTORS TREKKER' 'MERCEDES BENZ GL-CLASS'\n",
      " 'GENERAL MOTORS TRAILBLAZER' 'HINDUSTAN MOTORS PUSHPAK' 'DAEWOO NEXIA'] \n",
      "\n"
     ]
    },
    {
     "name": "stdout",
     "output_type": "stream",
     "text": [
      "Number of unique values for column Item Category 4\n",
      "Unique values of column Item Category ['P002' 'P001' 'P010' 'P011'] \n",
      "\n",
      "Number of unique values for column Target quantity UoM 3\n",
      "Unique values of column Target quantity UoM ['EA' 'L' 'MIN'] \n",
      "\n"
     ]
    }
   ],
   "source": [
    "# Check all the unique values from each of the columns\n",
    "\n",
    "for col in cat_col:\n",
    "    print('Number of unique values for column', col, serv_df[col].nunique())\n",
    "    print('Unique values of column', col, serv_df[col].unique(), '\\n')"
   ]
  },
  {
   "cell_type": "markdown",
   "metadata": {},
   "source": [
    "## Null/Missing value analysis"
   ]
  },
  {
   "cell_type": "code",
   "execution_count": 8,
   "metadata": {},
   "outputs": [
    {
     "data": {
      "text/plain": [
       "KMs Reading            0\n",
       "Labour Total           0\n",
       "Order Type             0\n",
       "Parts Total            0\n",
       "Total Value            0\n",
       "City                   0\n",
       "State                  0\n",
       "Sales organization     0\n",
       "Car Model              0\n",
       "Order Item             0\n",
       "Item Category          0\n",
       "Order Quantity         0\n",
       "Target quantity UoM    0\n",
       "Net value              0\n",
       "Cust Count             0\n",
       "Plant Count            0\n",
       "Service Hours          0\n",
       "dtype: int64"
      ]
     },
     "execution_count": 8,
     "metadata": {},
     "output_type": "execute_result"
    }
   ],
   "source": [
    "serv_df.isnull().sum()"
   ]
  },
  {
   "cell_type": "markdown",
   "metadata": {},
   "source": [
    "# Feature Engineering"
   ]
  },
  {
   "cell_type": "markdown",
   "metadata": {},
   "source": [
    "## Numerical features(Outliers)"
   ]
  },
  {
   "cell_type": "code",
   "execution_count": 9,
   "metadata": {},
   "outputs": [],
   "source": [
    "# Plot boxplot\n",
    "\n",
    "def plot_box(data, cols):\n",
    "    for num in cols:\n",
    "        plt.figure(figsize=(8,6))\n",
    "        sns.boxplot(y=num, data=data)\n",
    "        plt.xlabel(num.upper(), fontsize=12)\n",
    "        plt.title(\"Box plot for \"+num, fontsize=12)\n",
    "        plt.xticks(rotation=30)\n",
    "    plt.show()"
   ]
  },
  {
   "cell_type": "code",
   "execution_count": 10,
   "metadata": {
    "scrolled": false
   },
   "outputs": [
    {
     "data": {
      "image/png": "[encoded data removed]",
      "text/plain": [
       "<Figure size 576x432 with 1 Axes>"
      ]
     },
     "metadata": {
      "needs_background": "light"
     },
     "output_type": "display_data"
    },
    {
     "data": {
      "image/png": "[encoded data removed]",
      "text/plain": [
       "<Figure size 576x432 with 1 Axes>"
      ]
     },
     "metadata": {
      "needs_background": "light"
     },
     "output_type": "display_data"
    },
    {
     "data": {
      "image/png": "[encoded data removed]",
      "text/plain": [
       "<Figure size 576x432 with 1 Axes>"
      ]
     },
     "metadata": {
      "needs_background": "light"
     },
     "output_type": "display_data"
    },
    {
     "data": {
      "image/png": "[encoded data removed]",
      "text/plain": [
       "<Figure size 576x432 with 1 Axes>"
      ]
     },
     "metadata": {
      "needs_background": "light"
     },
     "output_type": "display_data"
    },
    {
     "data": {
      "image/png": "[encoded data removed]",
      "text/plain": [
       "<Figure size 576x432 with 1 Axes>"
      ]
     },
     "metadata": {
      "needs_background": "light"
     },
     "output_type": "display_data"
    },
    {
     "data": {
      "image/png": "[encoded data removed]",
      "text/plain": [
       "<Figure size 576x432 with 1 Axes>"
      ]
     },
     "metadata": {
      "needs_background": "light"
     },
     "output_type": "display_data"
    },
    {
     "data": {
      "image/png": "[encoded data removed]",
      "text/plain": [
       "<Figure size 576x432 with 1 Axes>"
      ]
     },
     "metadata": {
      "needs_background": "light"
     },
     "output_type": "display_data"
    },
    {
     "data": {
      "image/png": "[encoded data removed]",
      "text/plain": [
       "<Figure size 576x432 with 1 Axes>"
      ]
     },
     "metadata": {
      "needs_background": "light"
     },
     "output_type": "display_data"
    },
    {
     "data": {
      "image/png": "[encoded data removed]",
      "text/plain": [
       "<Figure size 576x432 with 1 Axes>"
      ]
     },
     "metadata": {
      "needs_background": "light"
     },
     "output_type": "display_data"
    },
    {
     "data": {
      "image/png": "[encoded data removed]",
      "text/plain": [
       "<Figure size 576x432 with 1 Axes>"
      ]
     },
     "metadata": {
      "needs_background": "light"
     },
     "output_type": "display_data"
    }
   ],
   "source": [
    "# Boxplot for outliers in numerical features\n",
    "\n",
    "plot_box(serv_df, num_col)"
   ]
  },
  {
   "cell_type": "code",
   "execution_count": 11,
   "metadata": {},
   "outputs": [
    {
     "data": {
      "text/plain": [
       "(2993983, 17)"
      ]
     },
     "execution_count": 11,
     "metadata": {},
     "output_type": "execute_result"
    }
   ],
   "source": [
    "serv_df.shape"
   ]
  },
  {
   "cell_type": "markdown",
   "metadata": {},
   "source": [
    "## Handling Outliers"
   ]
  },
  {
   "cell_type": "code",
   "execution_count": 5,
   "metadata": {},
   "outputs": [],
   "source": [
    "def removing_outliers(cols):\n",
    "    for col in cols:\n",
    "        print('Column Name:', col)\n",
    "        min_thresold, max_thresold = serv_df[col].quantile([0.001, 0.999])\n",
    "        print('Minimum threshold value for', col, min_thresold) \n",
    "        print('Maximum threshold value for', col, max_thresold)\n",
    "        outlier_count = (serv_df[(serv_df[col]>max_thresold) | (serv_df[col]<min_thresold)]).shape[0]\n",
    "        print('Count of Outliers for', col, outlier_count)\n",
    "        serv_df.drop(serv_df[(serv_df[col]>max_thresold) | (serv_df[col]<min_thresold)].index, inplace=True)\n",
    "        print('Outliers removed from', col)\n",
    "        print('--------------------------------------------------------------------------------', '\\n')"
   ]
  },
  {
   "cell_type": "code",
   "execution_count": 6,
   "metadata": {},
   "outputs": [
    {
     "name": "stdout",
     "output_type": "stream",
     "text": [
      "Column Name: KMs Reading\n",
      "Minimum threshold value for KMs Reading 1.0\n",
      "Maximum threshold value for KMs Reading 1411289.0\n",
      "Count of Outliers for KMs Reading 2991\n",
      "Outliers removed from KMs Reading\n",
      "-------------------------------------------------------------------------------- \n",
      "\n",
      "Column Name: Labour Total\n",
      "Minimum threshold value for Labour Total 0.0\n",
      "Maximum threshold value for Labour Total 98775.93\n",
      "Count of Outliers for Labour Total 2840\n",
      "Outliers removed from Labour Total\n",
      "-------------------------------------------------------------------------------- \n",
      "\n",
      "Column Name: Parts Total\n",
      "Minimum threshold value for Parts Total 0.0\n",
      "Maximum threshold value for Parts Total 255784.83\n",
      "Count of Outliers for Parts Total 2991\n",
      "Outliers removed from Parts Total\n",
      "-------------------------------------------------------------------------------- \n",
      "\n",
      "Column Name: Total Value\n",
      "Minimum threshold value for Total Value 0.0\n",
      "Maximum threshold value for Total Value 258511.99\n",
      "Count of Outliers for Total Value 2899\n",
      "Outliers removed from Total Value\n",
      "-------------------------------------------------------------------------------- \n",
      "\n",
      "Column Name: Order Item\n",
      "Minimum threshold value for Order Item 10.0\n",
      "Maximum threshold value for Order Item 1290.0\n",
      "Count of Outliers for Order Item 2939\n",
      "Outliers removed from Order Item\n",
      "-------------------------------------------------------------------------------- \n",
      "\n",
      "Column Name: Order Quantity\n",
      "Minimum threshold value for Order Quantity 0.01\n",
      "Maximum threshold value for Order Quantity 3000.0\n",
      "Count of Outliers for Order Quantity 3556\n",
      "Outliers removed from Order Quantity\n",
      "-------------------------------------------------------------------------------- \n",
      "\n",
      "Column Name: Net value\n",
      "Minimum threshold value for Net value 0.0\n",
      "Maximum threshold value for Net value 20366.76712000046\n",
      "Count of Outliers for Net value 3026\n",
      "Outliers removed from Net value\n",
      "-------------------------------------------------------------------------------- \n",
      "\n",
      "Column Name: Cust Count\n",
      "Minimum threshold value for Cust Count 72.0\n",
      "Maximum threshold value for Cust Count 18547.0\n",
      "Count of Outliers for Cust Count 2839\n",
      "Outliers removed from Cust Count\n",
      "-------------------------------------------------------------------------------- \n",
      "\n",
      "Column Name: Plant Count\n",
      "Minimum threshold value for Plant Count 1.0\n",
      "Maximum threshold value for Plant Count 42.0\n",
      "Count of Outliers for Plant Count 0\n",
      "Outliers removed from Plant Count\n",
      "-------------------------------------------------------------------------------- \n",
      "\n",
      "Column Name: Service Hours\n",
      "Minimum threshold value for Service Hours 0.0\n",
      "Maximum threshold value for Service Hours 4409.0\n",
      "Count of Outliers for Service Hours 2966\n",
      "Outliers removed from Service Hours\n",
      "-------------------------------------------------------------------------------- \n",
      "\n"
     ]
    }
   ],
   "source": [
    "removing_outliers(num_col)"
   ]
  },
  {
   "cell_type": "code",
   "execution_count": 13,
   "metadata": {},
   "outputs": [
    {
     "data": {
      "text/html": [
       "<div>\n",
       "<style scoped>\n",
       "    .dataframe tbody tr th:only-of-type {\n",
       "        vertical-align: middle;\n",
       "    }\n",
       "\n",
       "    .dataframe tbody tr th {\n",
       "        vertical-align: top;\n",
       "    }\n",
       "\n",
       "    .dataframe thead th {\n",
       "        text-align: right;\n",
       "    }\n",
       "</style>\n",
       "<table border=\"1\" class=\"dataframe\">\n",
       "  <thead>\n",
       "    <tr style=\"text-align: right;\">\n",
       "      <th></th>\n",
       "      <th>count</th>\n",
       "      <th>mean</th>\n",
       "      <th>std</th>\n",
       "      <th>min</th>\n",
       "      <th>25%</th>\n",
       "      <th>50%</th>\n",
       "      <th>75%</th>\n",
       "      <th>max</th>\n",
       "    </tr>\n",
       "  </thead>\n",
       "  <tbody>\n",
       "    <tr>\n",
       "      <th>KMs Reading</th>\n",
       "      <td>2966936.0</td>\n",
       "      <td>80230.962068</td>\n",
       "      <td>77506.917879</td>\n",
       "      <td>1.00</td>\n",
       "      <td>39712.00</td>\n",
       "      <td>65208.00</td>\n",
       "      <td>98800.00</td>\n",
       "      <td>1411289.00</td>\n",
       "    </tr>\n",
       "    <tr>\n",
       "      <th>Labour Total</th>\n",
       "      <td>2966936.0</td>\n",
       "      <td>3113.020828</td>\n",
       "      <td>5914.214138</td>\n",
       "      <td>0.00</td>\n",
       "      <td>599.97</td>\n",
       "      <td>1409.83</td>\n",
       "      <td>3263.15</td>\n",
       "      <td>97600.50</td>\n",
       "    </tr>\n",
       "    <tr>\n",
       "      <th>Parts Total</th>\n",
       "      <td>2966936.0</td>\n",
       "      <td>8406.309422</td>\n",
       "      <td>17940.904142</td>\n",
       "      <td>0.00</td>\n",
       "      <td>1090.73</td>\n",
       "      <td>3042.24</td>\n",
       "      <td>7751.78</td>\n",
       "      <td>248580.77</td>\n",
       "    </tr>\n",
       "    <tr>\n",
       "      <th>Total Value</th>\n",
       "      <td>2966936.0</td>\n",
       "      <td>13155.369784</td>\n",
       "      <td>24275.780204</td>\n",
       "      <td>0.00</td>\n",
       "      <td>2383.41</td>\n",
       "      <td>5478.92</td>\n",
       "      <td>12916.53</td>\n",
       "      <td>258511.99</td>\n",
       "    </tr>\n",
       "    <tr>\n",
       "      <th>Order Item</th>\n",
       "      <td>2966936.0</td>\n",
       "      <td>97.070284</td>\n",
       "      <td>118.315315</td>\n",
       "      <td>10.00</td>\n",
       "      <td>30.00</td>\n",
       "      <td>60.00</td>\n",
       "      <td>120.00</td>\n",
       "      <td>1290.00</td>\n",
       "    </tr>\n",
       "    <tr>\n",
       "      <th>Order Quantity</th>\n",
       "      <td>2966936.0</td>\n",
       "      <td>39.529613</td>\n",
       "      <td>218.000104</td>\n",
       "      <td>0.01</td>\n",
       "      <td>1.00</td>\n",
       "      <td>1.00</td>\n",
       "      <td>4.00</td>\n",
       "      <td>3000.00</td>\n",
       "    </tr>\n",
       "    <tr>\n",
       "      <th>Net value</th>\n",
       "      <td>2966936.0</td>\n",
       "      <td>686.400446</td>\n",
       "      <td>1345.625802</td>\n",
       "      <td>0.00</td>\n",
       "      <td>94.01</td>\n",
       "      <td>281.16</td>\n",
       "      <td>700.01</td>\n",
       "      <td>20366.14</td>\n",
       "    </tr>\n",
       "    <tr>\n",
       "      <th>Cust Count</th>\n",
       "      <td>2966936.0</td>\n",
       "      <td>7539.589532</td>\n",
       "      <td>5901.937772</td>\n",
       "      <td>72.00</td>\n",
       "      <td>2001.00</td>\n",
       "      <td>7228.00</td>\n",
       "      <td>11511.00</td>\n",
       "      <td>18547.00</td>\n",
       "    </tr>\n",
       "    <tr>\n",
       "      <th>Plant Count</th>\n",
       "      <td>2966936.0</td>\n",
       "      <td>27.235856</td>\n",
       "      <td>15.140612</td>\n",
       "      <td>1.00</td>\n",
       "      <td>11.00</td>\n",
       "      <td>40.00</td>\n",
       "      <td>42.00</td>\n",
       "      <td>42.00</td>\n",
       "    </tr>\n",
       "    <tr>\n",
       "      <th>Service Hours</th>\n",
       "      <td>2966936.0</td>\n",
       "      <td>146.722102</td>\n",
       "      <td>331.239158</td>\n",
       "      <td>0.00</td>\n",
       "      <td>6.00</td>\n",
       "      <td>43.00</td>\n",
       "      <td>127.00</td>\n",
       "      <td>4409.00</td>\n",
       "    </tr>\n",
       "  </tbody>\n",
       "</table>\n",
       "</div>"
      ],
      "text/plain": [
       "                    count          mean           std    min       25%  \\\n",
       "KMs Reading     2966936.0  80230.962068  77506.917879   1.00  39712.00   \n",
       "Labour Total    2966936.0   3113.020828   5914.214138   0.00    599.97   \n",
       "Parts Total     2966936.0   8406.309422  17940.904142   0.00   1090.73   \n",
       "Total Value     2966936.0  13155.369784  24275.780204   0.00   2383.41   \n",
       "Order Item      2966936.0     97.070284    118.315315  10.00     30.00   \n",
       "Order Quantity  2966936.0     39.529613    218.000104   0.01      1.00   \n",
       "Net value       2966936.0    686.400446   1345.625802   0.00     94.01   \n",
       "Cust Count      2966936.0   7539.589532   5901.937772  72.00   2001.00   \n",
       "Plant Count     2966936.0     27.235856     15.140612   1.00     11.00   \n",
       "Service Hours   2966936.0    146.722102    331.239158   0.00      6.00   \n",
       "\n",
       "                     50%       75%         max  \n",
       "KMs Reading     65208.00  98800.00  1411289.00  \n",
       "Labour Total     1409.83   3263.15    97600.50  \n",
       "Parts Total      3042.24   7751.78   248580.77  \n",
       "Total Value      5478.92  12916.53   258511.99  \n",
       "Order Item         60.00    120.00     1290.00  \n",
       "Order Quantity      1.00      4.00     3000.00  \n",
       "Net value         281.16    700.01    20366.14  \n",
       "Cust Count       7228.00  11511.00    18547.00  \n",
       "Plant Count        40.00     42.00       42.00  \n",
       "Service Hours      43.00    127.00     4409.00  "
      ]
     },
     "execution_count": 13,
     "metadata": {},
     "output_type": "execute_result"
    }
   ],
   "source": [
    "serv_df.describe().T"
   ]
  },
  {
   "cell_type": "code",
   "execution_count": 14,
   "metadata": {
    "scrolled": false
   },
   "outputs": [
    {
     "data": {
      "image/png": "[encoded data removed]",
      "text/plain": [
       "<Figure size 576x432 with 1 Axes>"
      ]
     },
     "metadata": {
      "needs_background": "light"
     },
     "output_type": "display_data"
    },
    {
     "data": {
      "image/png": "[encoded data removed]",
      "text/plain": [
       "<Figure size 576x432 with 1 Axes>"
      ]
     },
     "metadata": {
      "needs_background": "light"
     },
     "output_type": "display_data"
    },
    {
     "data": {
      "image/png": "[encoded data removed]",
      "text/plain": [
       "<Figure size 576x432 with 1 Axes>"
      ]
     },
     "metadata": {
      "needs_background": "light"
     },
     "output_type": "display_data"
    },
    {
     "data": {
      "image/png": "[encoded data removed]",
      "text/plain": [
       "<Figure size 576x432 with 1 Axes>"
      ]
     },
     "metadata": {
      "needs_background": "light"
     },
     "output_type": "display_data"
    },
    {
     "data": {
      "image/png": "[encoded data removed]",
      "text/plain": [
       "<Figure size 576x432 with 1 Axes>"
      ]
     },
     "metadata": {
      "needs_background": "light"
     },
     "output_type": "display_data"
    },
    {
     "data": {
      "image/png": "[encoded data removed]",
      "text/plain": [
       "<Figure size 576x432 with 1 Axes>"
      ]
     },
     "metadata": {
      "needs_background": "light"
     },
     "output_type": "display_data"
    },
    {
     "data": {
      "image/png": "[encoded data removed]",
      "text/plain": [
       "<Figure size 576x432 with 1 Axes>"
      ]
     },
     "metadata": {
      "needs_background": "light"
     },
     "output_type": "display_data"
    },
    {
     "data": {
      "image/png": "[encoded data removed]",
      "text/plain": [
       "<Figure size 576x432 with 1 Axes>"
      ]
     },
     "metadata": {
      "needs_background": "light"
     },
     "output_type": "display_data"
    },
    {
     "data": {
      "image/png": "[encoded data removed]",
      "text/plain": [
       "<Figure size 576x432 with 1 Axes>"
      ]
     },
     "metadata": {
      "needs_background": "light"
     },
     "output_type": "display_data"
    },
    {
     "data": {
      "image/png": "[encoded data removed]",
      "text/plain": [
       "<Figure size 576x432 with 1 Axes>"
      ]
     },
     "metadata": {
      "needs_background": "light"
     },
     "output_type": "display_data"
    }
   ],
   "source": [
    "# Box plot after handling outliers\n",
    "\n",
    "plot_box(serv_df, num_col)"
   ]
  },
  {
   "cell_type": "markdown",
   "metadata": {},
   "source": [
    "## Categorical features(Encoding)"
   ]
  },
  {
   "cell_type": "markdown",
   "metadata": {},
   "source": [
    "### One Hot Encoding"
   ]
  },
  {
   "cell_type": "code",
   "execution_count": 7,
   "metadata": {},
   "outputs": [
    {
     "name": "stdout",
     "output_type": "stream",
     "text": [
      "(2966936, 29)\n"
     ]
    }
   ],
   "source": [
    "# One hot encoding on selected columns\n",
    "\n",
    "encode_df = serv_df.copy()\n",
    "one_hot_col = ['Order Type', 'Sales organization', 'Item Category', 'Target quantity UoM']\n",
    "\n",
    "X_cat = encode_df[one_hot_col]\n",
    "X_cat.head(2)\n",
    "X_cat_one_hot_train = pd.get_dummies(X_cat, drop_first=True)\n",
    "\n",
    "#Merge With original df\n",
    "cat_proc_columns = X_cat_one_hot_train.columns\n",
    "for col in cat_proc_columns:\n",
    "    encode_df[col] = X_cat_one_hot_train[col]\n",
    "    \n",
    "encode_df.drop(columns = one_hot_col, axis=1, inplace=True)\n",
    "print(encode_df.shape)"
   ]
  },
  {
   "cell_type": "markdown",
   "metadata": {},
   "source": [
    "### Frequency Encoding"
   ]
  },
  {
   "cell_type": "code",
   "execution_count": 8,
   "metadata": {},
   "outputs": [
    {
     "name": "stdout",
     "output_type": "stream",
     "text": [
      "(2966936, 30)\n"
     ]
    }
   ],
   "source": [
    "# Frequency encoding on selected columns\n",
    "\n",
    "frequency = encode_df.groupby('Car Model').size()/len(encode_df)\n",
    "encode_df.loc[:,'Car_Model_fcode'] = encode_df['Car Model'].map(frequency)\n",
    "\n",
    "# Drop same columns\n",
    "#encode_df.drop(columns='Car Model', axis=1, inplace=True)\n",
    "\n",
    "print(encode_df.shape)"
   ]
  },
  {
   "cell_type": "markdown",
   "metadata": {},
   "source": [
    "# Feature Importance"
   ]
  },
  {
   "cell_type": "markdown",
   "metadata": {},
   "source": [
    "## Input sample data"
   ]
  },
  {
   "cell_type": "code",
   "execution_count": 48,
   "metadata": {},
   "outputs": [],
   "source": [
    "# Take sample from data\n",
    "\n",
    "sample_df = encode_df.sample(n=50000)"
   ]
  },
  {
   "cell_type": "code",
   "execution_count": 49,
   "metadata": {},
   "outputs": [],
   "source": [
    "# Defining dependent and independent variables\n",
    "\n",
    "X = sample_df[['KMs Reading', 'Labour Total', 'Parts Total', 'Order Item', 'Order Quantity', 'Net value',\n",
    "       'Cust Count', 'Plant Count', 'Order Type_Mechanical', 'Order Type_Paid Service', 'Order Type_Repeat Order',\n",
    "       'Order Type_Running Repairs', 'Order Type_SMC Redemption', 'Order Type_SMC Value Package', 'Order Type_WBW Order',\n",
    "       'Sales organization_MFCB', 'Sales organization_MFCC', 'Sales organization_MFCD', 'Sales organization_MFCS',\n",
    "       'Item Category_P002', 'Item Category_P010', 'Item Category_P011', 'Target quantity UoM_L', 'Target quantity UoM_MIN',\n",
    "        'Car_Model_fcode']]\n",
    "\n",
    "y = sample_df[['Total Value', 'Service Hours']]"
   ]
  },
  {
   "cell_type": "markdown",
   "metadata": {},
   "source": [
    "## Co-relation Matrix"
   ]
  },
  {
   "cell_type": "code",
   "execution_count": 19,
   "metadata": {},
   "outputs": [
    {
     "data": {
      "image/png": "[encoded data removed]",
      "text/plain": [
       "<Figure size 864x720 with 2 Axes>"
      ]
     },
     "metadata": {
      "needs_background": "light"
     },
     "output_type": "display_data"
    }
   ],
   "source": [
    "# Apply Co-relation on numerical column\n",
    "\n",
    "fig = plt.figure(figsize=(12, 10))\n",
    "sns.heatmap(serv_df[num_col].corr(), annot=True)\n",
    "plt.title('Heatmap for detecting multicollinearity', fontsize=16)\n",
    "plt.show()"
   ]
  },
  {
   "cell_type": "markdown",
   "metadata": {},
   "source": [
    "<b>Insight:</b> <br>\n",
    "- Both the target variables i.e. Total Value and Service Hours are highly co-related with Labour Total, Parts Total, Order Item etc."
   ]
  },
  {
   "cell_type": "markdown",
   "metadata": {},
   "source": [
    "## Extra Trees Regressor"
   ]
  },
  {
   "cell_type": "code",
   "execution_count": 59,
   "metadata": {},
   "outputs": [
    {
     "data": {
      "image/png": "[encoded data removed]",
      "text/plain": [
       "<Figure size 720x720 with 1 Axes>"
      ]
     },
     "metadata": {
      "needs_background": "light"
     },
     "output_type": "display_data"
    }
   ],
   "source": [
    "plt.figure(figsize=(10, 10))\n",
    "# Build a forest and compute the feature importances\n",
    "forest = ExtraTreesRegressor(n_estimators=100, random_state=42)\n",
    "forest.fit(X, y)\n",
    "\n",
    "#plot graph of feature importances for better visualization\n",
    "feat_importances = pd.Series(forest.feature_importances_, index=X.columns)\n",
    "feat_importances.nlargest(10).sort_values(ascending=True).plot(kind='barh')\n",
    "plt.show()"
   ]
  },
  {
   "cell_type": "code",
   "execution_count": 60,
   "metadata": {},
   "outputs": [
    {
     "data": {
      "text/plain": [
       "Parts Total                     0.840299\n",
       "Labour Total                    0.077940\n",
       "Order Item                      0.053440\n",
       "Order Type_Paid Service         0.003716\n",
       "KMs Reading                     0.003449\n",
       "Net value                       0.003371\n",
       "Car_Model_fcode                 0.002789\n",
       "Cust Count                      0.002762\n",
       "Order Type_Running Repairs      0.002659\n",
       "Sales organization_MFCS         0.001907\n",
       "Plant Count                     0.001762\n",
       "Order Quantity                  0.001048\n",
       "Item Category_P010              0.000866\n",
       "Sales organization_MFCD         0.000672\n",
       "Sales organization_MFCC         0.000650\n",
       "Order Type_Mechanical           0.000517\n",
       "Item Category_P002              0.000487\n",
       "Target quantity UoM_L           0.000408\n",
       "Target quantity UoM_MIN         0.000390\n",
       "Sales organization_MFCB         0.000374\n",
       "Item Category_P011              0.000348\n",
       "Order Type_SMC Value Package    0.000087\n",
       "Order Type_SMC Redemption       0.000060\n",
       "Order Type_WBW Order            0.000000\n",
       "Order Type_Repeat Order         0.000000\n",
       "dtype: float64"
      ]
     },
     "execution_count": 60,
     "metadata": {},
     "output_type": "execute_result"
    }
   ],
   "source": [
    "feat_importances.nlargest(25)"
   ]
  },
  {
   "cell_type": "markdown",
   "metadata": {},
   "source": [
    "## Decision Tree Regressor"
   ]
  },
  {
   "cell_type": "code",
   "execution_count": 61,
   "metadata": {},
   "outputs": [
    {
     "name": "stdout",
     "output_type": "stream",
     "text": [
      "Feature: 0, Score: 0.00485\n",
      "Feature: 1, Score: 0.03511\n",
      "Feature: 2, Score: 0.94333\n",
      "Feature: 3, Score: 0.00226\n",
      "Feature: 4, Score: 0.00089\n",
      "Feature: 5, Score: 0.00264\n",
      "Feature: 6, Score: 0.00313\n",
      "Feature: 7, Score: 0.00074\n",
      "Feature: 8, Score: 0.00024\n",
      "Feature: 9, Score: 0.00058\n",
      "Feature: 10, Score: 0.00000\n",
      "Feature: 11, Score: 0.00150\n",
      "Feature: 12, Score: 0.00005\n",
      "Feature: 13, Score: 0.00000\n",
      "Feature: 14, Score: 0.00000\n",
      "Feature: 15, Score: 0.00011\n",
      "Feature: 16, Score: 0.00042\n",
      "Feature: 17, Score: 0.00016\n",
      "Feature: 18, Score: 0.00089\n",
      "Feature: 19, Score: 0.00018\n",
      "Feature: 20, Score: 0.00026\n",
      "Feature: 21, Score: 0.00007\n",
      "Feature: 22, Score: 0.00009\n",
      "Feature: 23, Score: 0.00042\n",
      "Feature: 24, Score: 0.00208\n"
     ]
    },
    {
     "data": {
      "image/png": "[encoded data removed]",
      "text/plain": [
       "<Figure size 432x288 with 1 Axes>"
      ]
     },
     "metadata": {
      "needs_background": "light"
     },
     "output_type": "display_data"
    }
   ],
   "source": [
    "# define the model\n",
    "model = DecisionTreeRegressor()\n",
    "# fit the model\n",
    "model.fit(X, y)\n",
    "# get importance\n",
    "importance = model.feature_importances_\n",
    "# summarize feature importance\n",
    "for i,v in enumerate(importance):\n",
    "\tprint('Feature: %0d, Score: %.5f' % (i,v))\n",
    "# plot feature importance\n",
    "plt.bar([x for x in range(len(importance))], importance)\n",
    "plt.show()"
   ]
  },
  {
   "cell_type": "markdown",
   "metadata": {},
   "source": [
    "## Random Forest Regressor"
   ]
  },
  {
   "cell_type": "code",
   "execution_count": 62,
   "metadata": {},
   "outputs": [
    {
     "name": "stdout",
     "output_type": "stream",
     "text": [
      "Feature: 0, Score: 0.00427\n",
      "Feature: 1, Score: 0.03533\n",
      "Feature: 2, Score: 0.94331\n",
      "Feature: 3, Score: 0.00259\n",
      "Feature: 4, Score: 0.00087\n",
      "Feature: 5, Score: 0.00314\n",
      "Feature: 6, Score: 0.00301\n",
      "Feature: 7, Score: 0.00095\n",
      "Feature: 8, Score: 0.00012\n",
      "Feature: 9, Score: 0.00042\n",
      "Feature: 10, Score: 0.00000\n",
      "Feature: 11, Score: 0.00081\n",
      "Feature: 12, Score: 0.00004\n",
      "Feature: 13, Score: 0.00000\n",
      "Feature: 14, Score: 0.00000\n",
      "Feature: 15, Score: 0.00015\n",
      "Feature: 16, Score: 0.00035\n",
      "Feature: 17, Score: 0.00023\n",
      "Feature: 18, Score: 0.00114\n",
      "Feature: 19, Score: 0.00012\n",
      "Feature: 20, Score: 0.00035\n",
      "Feature: 21, Score: 0.00017\n",
      "Feature: 22, Score: 0.00017\n",
      "Feature: 23, Score: 0.00010\n",
      "Feature: 24, Score: 0.00237\n"
     ]
    },
    {
     "data": {
      "image/png": "[encoded data removed]",
      "text/plain": [
       "<Figure size 432x288 with 1 Axes>"
      ]
     },
     "metadata": {
      "needs_background": "light"
     },
     "output_type": "display_data"
    }
   ],
   "source": [
    "# define the model\n",
    "model = RandomForestRegressor()\n",
    "# fit the model\n",
    "model.fit(X, y)\n",
    "# get importance\n",
    "importance = model.feature_importances_\n",
    "# summarize feature importance\n",
    "for i,v in enumerate(importance):\n",
    "\tprint('Feature: %0d, Score: %.5f' % (i,v))\n",
    "# plot feature importance\n",
    "plt.bar([x for x in range(len(importance))], importance)\n",
    "plt.show()"
   ]
  },
  {
   "cell_type": "markdown",
   "metadata": {},
   "source": [
    "# Model Building"
   ]
  },
  {
   "cell_type": "markdown",
   "metadata": {},
   "source": [
    "## Multioutput Regression With Cross-Validation"
   ]
  },
  {
   "cell_type": "code",
   "execution_count": 52,
   "metadata": {},
   "outputs": [],
   "source": [
    "# evaluate multioutput regression model with k-fold cross-validation\n",
    "\n",
    "def cross_validation(model_values, X_data, y_data):\n",
    "    '''\n",
    "    evaluate multioutput regression model with k-fold cross-validation\n",
    "    '''\n",
    "    X_train, X_test, y_train, y_test = train_test_split(X_data, y_data, random_state=42, test_size=0.2)\n",
    "    \n",
    "    Regressor = []\n",
    "    RMSE_mean = []\n",
    "    MAE_mean = []\n",
    "    R2_mean = []\n",
    "    \n",
    "    # define the evaluation procedure\n",
    "    cv = RepeatedKFold(n_splits=10, n_repeats=3, random_state=42)\n",
    "    \n",
    "    for name, model in model_values.items():\n",
    "        # evaluate the model and collect the scores\n",
    "        rmse_scores = cross_val_score(model, X_train, y_train, scoring='neg_root_mean_squared_error', cv=cv, n_jobs=-1)\n",
    "        mae_scores = cross_val_score(model, X_train, y_train, scoring='neg_mean_absolute_error', cv=cv, n_jobs=-1)\n",
    "        r2_scores = cross_val_score(model, X_train, y_train, scoring='r2', cv=cv, n_jobs=-1)\n",
    "        \n",
    "        # force the scores to be positive\n",
    "        rmse_scores = absolute(rmse_scores)\n",
    "        mae_scores = absolute(mae_scores)\n",
    "        r2_scores = absolute(r2_scores)\n",
    "        \n",
    "        Regressor.append(name)\n",
    "        RMSE_mean.append(round(mean(rmse_scores), 2))\n",
    "        MAE_mean.append(round(mean(mae_scores), 2))\n",
    "        R2_mean.append(round(mean(r2_scores), 2))\n",
    "    \n",
    "    results = pd.DataFrame({'Model':Regressor, 'RMSE Score':RMSE_mean, 'MAE Score':MAE_mean, 'R2 Score':R2_mean})\n",
    "    print(results)"
   ]
  },
  {
   "cell_type": "code",
   "execution_count": 35,
   "metadata": {},
   "outputs": [],
   "source": [
    "# Regression models\n",
    "\n",
    "models = {\n",
    "          'Linear Regression':LinearRegression(),\n",
    "          'KNeighbors Regressor':KNeighborsRegressor(),\n",
    "          'Decision Tree Regression': DecisionTreeRegressor(),\n",
    "          'Random Forest Regression':RandomForestRegressor()\n",
    "          }"
   ]
  },
  {
   "cell_type": "code",
   "execution_count": 36,
   "metadata": {},
   "outputs": [
    {
     "name": "stdout",
     "output_type": "stream",
     "text": [
      "                      Model  RMSE Score  MAE Score  R2 Score\n",
      "0         Linear Regression     2330.87     973.73      0.64\n",
      "1      KNeighbors Regressor     2421.53     964.74      0.62\n",
      "2  Decision Tree Regression     2559.34     830.10      0.42\n",
      "3  Random Forest Regression     1904.27     702.39      0.71\n"
     ]
    }
   ],
   "source": [
    "# Call Model building function\n",
    "\n",
    "cross_validation(models, X, y)"
   ]
  },
  {
   "cell_type": "markdown",
   "metadata": {},
   "source": [
    "## Direct Multioutput Regression with Linear SVR"
   ]
  },
  {
   "cell_type": "code",
   "execution_count": 55,
   "metadata": {},
   "outputs": [
    {
     "name": "stdout",
     "output_type": "stream",
     "text": [
      "Model : MultiOutput Regressor with Linear SVR\n",
      "RMSE Score : 3679.56\n",
      "MAE Score : 1983.42\n",
      "R2 Score : 0.49\n"
     ]
    }
   ],
   "source": [
    "# Evaluate multioutput regression model with Linear SVR(Support Vector Regression)\n",
    "\n",
    "# define base model\n",
    "model = LinearSVR()\n",
    "\n",
    "# define the direct multioutput wrapper model\n",
    "wrapper = MultiOutputRegressor(model)\n",
    "\n",
    "# evaluate the model and collect the scores\n",
    "rmse_scores = cross_val_score(wrapper, X, y, scoring='neg_root_mean_squared_error', cv=cv, n_jobs=-1)\n",
    "mae_scores = cross_val_score(wrapper, X, y, scoring='neg_mean_absolute_error', cv=cv, n_jobs=-1)\n",
    "r2_scores = cross_val_score(wrapper, X, y, scoring='r2', cv=cv, n_jobs=-1)\n",
    "\n",
    "# force the scores to be positive\n",
    "rmse_scores = absolute(rmse_scores)\n",
    "mae_scores = absolute(mae_scores)\n",
    "r2_scores = absolute(r2_scores)\n",
    "\n",
    "print('Model : MultiOutput Regressor with Linear SVR')\n",
    "print('RMSE Score :', round(mean(rmse_scores), 2))\n",
    "print('MAE Score :', round(mean(mae_scores), 2))\n",
    "print('R2 Score :', round(mean(r2_scores), 2))"
   ]
  },
  {
   "cell_type": "markdown",
   "metadata": {},
   "source": [
    "## Chained Multioutput Regression with Linear SVR"
   ]
  },
  {
   "cell_type": "code",
   "execution_count": 53,
   "metadata": {},
   "outputs": [
    {
     "name": "stdout",
     "output_type": "stream",
     "text": [
      "Model : Chained MultiOutput Regressor with Linear SVR\n",
      "RMSE Score : 3644.4\n",
      "MAE Score : 2603.06\n",
      "R2 Score : 0.85\n"
     ]
    }
   ],
   "source": [
    "# Evaluate Chained Multioutput Regression model with Linear SVR(Support Vector Regression)\n",
    "\n",
    "# define base model\n",
    "model = LinearSVR()\n",
    "\n",
    "# define the chained multioutput wrapper model\n",
    "wrapper = RegressorChain(model)\n",
    "\n",
    "# evaluate the model and collect the scores\n",
    "rmse_scores = cross_val_score(wrapper, X, y, scoring='neg_root_mean_squared_error', cv=cv, n_jobs=-1)\n",
    "mae_scores = cross_val_score(wrapper, X, y, scoring='neg_mean_absolute_error', cv=cv, n_jobs=-1)\n",
    "r2_scores = cross_val_score(wrapper, X, y, scoring='r2', cv=cv, n_jobs=-1)\n",
    "\n",
    "# force the scores to be positive\n",
    "rmse_scores = absolute(rmse_scores)\n",
    "mae_scores = absolute(mae_scores)\n",
    "r2_scores = absolute(r2_scores)\n",
    "\n",
    "print('Model : Chained MultiOutput Regressor with Linear SVR')\n",
    "print('RMSE Score :', round(mean(rmse_scores), 2))\n",
    "print('MAE Score :', round(mean(mae_scores), 2))\n",
    "print('R2 Score :', round(mean(r2_scores), 2))"
   ]
  },
  {
   "cell_type": "markdown",
   "metadata": {},
   "source": [
    "## Final Model"
   ]
  },
  {
   "cell_type": "code",
   "execution_count": 32,
   "metadata": {},
   "outputs": [],
   "source": [
    "# Take sample from data\n",
    "\n",
    "final_df = encode_df.sample(n=80000)"
   ]
  },
  {
   "cell_type": "code",
   "execution_count": 33,
   "metadata": {},
   "outputs": [],
   "source": [
    "# Rename columns\n",
    "\n",
    "final_df.rename(columns={\"KMs Reading\": \"KMs_Reading\", \"Labour Total\": \"Labour_Total\", \"Parts Total\":\"Parts_Total\",\n",
    "                         \"Order Item\":\"Order_Item\", \"Order Quantity\":\"Order_Quantity\", \"Cust Count\":\"Cust_Count\", \n",
    "                         \"Plant Count\":\"Plant_Count\", \"Sales organization_MFCB\":\"Sales_organization_MFCB\",\n",
    "                         \"Sales organization_MFCC\":\"Sales_organization_MFCC\", \"Sales organization_MFCD\":\"Sales_organization_MFCD\",\n",
    "                         \"Sales organization_MFCS\":\"Sales_organization_MFCS\", \"Item Category_P002\":\"Item_Category_P002\",\n",
    "                         \"Item Category_P010\":\"Item_Category_P010\", \"Item Category_P011\":\"Item_Category_P011\",\n",
    "                         \"Target quantity UoM_L\":\"Target_quantity_UoM_L\", \"Target quantity UoM_MIN\":\"Target_quantity_UoM_MIN\",\n",
    "                         \"Total Value\":\"Total_Value\", \"Service Hours\":\"Service_Hours\"}, inplace=True)"
   ]
  },
  {
   "cell_type": "code",
   "execution_count": 34,
   "metadata": {},
   "outputs": [],
   "source": [
    "# Defining dependent and independent variables\n",
    "\n",
    "X = final_df[['KMs_Reading', 'Labour_Total', 'Parts_Total', 'Order_Item', 'Order_Quantity',\n",
    "       'Cust_Count', 'Plant_Count', 'Sales_organization_MFCB', 'Sales_organization_MFCC', 'Sales_organization_MFCD', 'Sales_organization_MFCS',\n",
    "       'Item_Category_P002', 'Item_Category_P010', 'Item_Category_P011', 'Target_quantity_UoM_L', 'Target_quantity_UoM_MIN',\n",
    "        'Car_Model_fcode']]\n",
    "\n",
    "y = final_df[['Total_Value', 'Service_Hours']]"
   ]
  },
  {
   "cell_type": "code",
   "execution_count": 40,
   "metadata": {},
   "outputs": [
    {
     "name": "stdout",
     "output_type": "stream",
     "text": [
      "Model : MultiOutput Regressor with Linear SVR\n",
      "RMSE Score : 3956.2\n",
      "MAE Score : 1459.46\n",
      "R2 Score : 0.94\n"
     ]
    }
   ],
   "source": [
    "# Evaluate multioutput regression model with Linear SVR(Support Vector Regression)\n",
    "\n",
    "# define base model\n",
    "model = LinearSVR()\n",
    "\n",
    "# define the direct multioutput wrapper model\n",
    "wrapper = MultiOutputRegressor(model)\n",
    "\n",
    "# define the evaluation procedure\n",
    "cv = RepeatedKFold(n_splits=10, n_repeats=3, random_state=42)\n",
    "\n",
    "# evaluate the model and collect the scores\n",
    "rmse_scores = cross_val_score(wrapper, X, y, scoring='neg_root_mean_squared_error', cv=cv, n_jobs=-1)\n",
    "mae_scores = cross_val_score(wrapper, X, y, scoring='neg_mean_absolute_error', cv=cv, n_jobs=-1)\n",
    "r2_scores = cross_val_score(wrapper, X, y, scoring='r2', cv=cv, n_jobs=-1)\n",
    "\n",
    "# force the scores to be positive\n",
    "rmse_scores = absolute(rmse_scores)\n",
    "mae_scores = absolute(mae_scores)\n",
    "r2_scores = absolute(r2_scores)\n",
    "\n",
    "print('Model : MultiOutput Regressor with Linear SVR')\n",
    "print('RMSE Score :', round(mean(rmse_scores), 2))\n",
    "print('MAE Score :', round(mean(mae_scores), 2))\n",
    "print('R2 Score :', round(mean(r2_scores), 2))"
   ]
  },
  {
   "cell_type": "markdown",
   "metadata": {},
   "source": [
    "## Single prediction on Final model"
   ]
  },
  {
   "cell_type": "code",
   "execution_count": 35,
   "metadata": {},
   "outputs": [
    {
     "name": "stdout",
     "output_type": "stream",
     "text": [
      "Predicted Total Value: 6681.944684288488\n",
      "Predicted Service Hours: 130.9774177489493\n"
     ]
    }
   ],
   "source": [
    "# define base model\n",
    "model = LinearSVR()\n",
    "\n",
    "# define the direct multioutput wrapper model\n",
    "wrapper = MultiOutputRegressor(model)\n",
    "\n",
    "# fit the model on the whole dataset\n",
    "wrapper.fit(X, y)\n",
    "\n",
    "# make a single prediction\n",
    "row = [12000, 1000, 5000, 15, 10, 200, 21, 0, 0, 1, 0, 0, 0, 1, 0, 1, 0.050562]\n",
    "\n",
    "yhat = wrapper.predict([row])\n",
    "\n",
    "# summarize the prediction\n",
    "print('Predicted Total Value: %s' % yhat[0][0])\n",
    "print('Predicted Service Hours: %s' % yhat[0][1])"
   ]
  },
  {
   "cell_type": "markdown",
   "metadata": {},
   "source": [
    "## Export Pickle file for prediction model"
   ]
  },
  {
   "cell_type": "code",
   "execution_count": 36,
   "metadata": {},
   "outputs": [],
   "source": [
    "# Saving model to disk\n",
    "\n",
    "pickle.dump(wrapper, open('model.pkl','wb'))"
   ]
  }
 ],
 "metadata": {
  "kernelspec": {
   "display_name": "Python 3",
   "language": "python",
   "name": "python3"
  },
  "language_info": {
   "codemirror_mode": {
    "name": "ipython",
    "version": 3
   },
   "file_extension": ".py",
   "mimetype": "text/x-python",
   "name": "python",
   "nbconvert_exporter": "python",
   "pygments_lexer": "ipython3",
   "version": "3.7.6"
  },
  "toc": {
   "base_numbering": 1,
   "nav_menu": {},
   "number_sections": true,
   "sideBar": true,
   "skip_h1_title": false,
   "title_cell": "Table of Contents",
   "title_sidebar": "Contents",
   "toc_cell": false,
   "toc_position": {
    "height": "calc(100% - 180px)",
    "left": "10px",
    "top": "150px",
    "width": "303.542px"
   },
   "toc_section_display": true,
   "toc_window_display": true
  }
 },
 "nbformat": 4,
 "nbformat_minor": 4
}
